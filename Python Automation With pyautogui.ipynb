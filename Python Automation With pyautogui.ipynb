{
 "cells": [
  {
   "cell_type": "code",
   "execution_count": 117,
   "metadata": {},
   "outputs": [],
   "source": [
    "import time\n",
    "import pyautogui as pg\n",
    "\n",
    "#set up a 2 second pause after each pyautogui call\n",
    "pg.PAUSE = 2\n",
    "\n",
    "# Task Order:\n",
    "# step_1: open the word document\n",
    "# step_2: go to the add-ins tab\n",
    "# step_3: click and open the stylewriter\n",
    "# step_4: chose the free trail version to open the StyleWriter\n",
    "# step_5: close the current document"
   ]
  },
  {
   "cell_type": "code",
   "execution_count": 132,
   "metadata": {},
   "outputs": [
    {
     "name": "stdout",
     "output_type": "stream",
     "text": [
      "Point(x=504, y=555)\n"
     ]
    }
   ],
   "source": [
    "# step_1: open the word document\n",
    "step_1 = pg.position()\n",
    "print(step_1)"
   ]
  },
  {
   "cell_type": "code",
   "execution_count": 120,
   "metadata": {},
   "outputs": [
    {
     "name": "stdout",
     "output_type": "stream",
     "text": [
      "Point(x=1550, y=166)\n"
     ]
    }
   ],
   "source": [
    "# step_2: go to the Add-ins tab\n",
    "step_2 = pg.position()\n",
    "print(step_2)"
   ]
  },
  {
   "cell_type": "code",
   "execution_count": 121,
   "metadata": {},
   "outputs": [
    {
     "name": "stdout",
     "output_type": "stream",
     "text": [
      "Point(x=1038, y=199)\n"
     ]
    }
   ],
   "source": [
    "# step_3: click and open the StyleWriter\n",
    "step_3 = pg.position()\n",
    "print(step_3)"
   ]
  },
  {
   "cell_type": "code",
   "execution_count": 36,
   "metadata": {},
   "outputs": [
    {
     "name": "stdout",
     "output_type": "stream",
     "text": [
      "Point(x=1013, y=572)\n"
     ]
    }
   ],
   "source": [
    "# step_4: chose the free trail version to open the StyleWriter\n",
    "step_4 = pg.position()\n",
    "print(step_4)"
   ]
  },
  {
   "cell_type": "code",
   "execution_count": 122,
   "metadata": {},
   "outputs": [
    {
     "name": "stdout",
     "output_type": "stream",
     "text": [
      "Point(x=1870, y=124)\n"
     ]
    }
   ],
   "source": [
    "# step_5: close the current document\n",
    "step_5 = pg.position()\n",
    "print(step_5)"
   ]
  },
  {
   "cell_type": "code",
   "execution_count": 123,
   "metadata": {},
   "outputs": [
    {
     "name": "stdout",
     "output_type": "stream",
     "text": [
      "Point(x=967, y=572)\n"
     ]
    }
   ],
   "source": [
    "# step_6: chose \"Don't Save\" when closing the current document\n",
    "step_6 = pg.position()\n",
    "print(step_6)"
   ]
  },
  {
   "cell_type": "code",
   "execution_count": 42,
   "metadata": {},
   "outputs": [
    {
     "name": "stdout",
     "output_type": "stream",
     "text": [
      "Point(x=602, y=18)\n"
     ]
    }
   ],
   "source": [
    "# step_7: refresh the StyleWriter\n",
    "step_7 = pg.position()\n",
    "print(step_7)"
   ]
  },
  {
   "cell_type": "code",
   "execution_count": 43,
   "metadata": {},
   "outputs": [
    {
     "name": "stdout",
     "output_type": "stream",
     "text": [
      "Point(x=4091, y=24)\n"
     ]
    }
   ],
   "source": [
    "# step_8: refresh the StyleWriter\n",
    "step_8 = pg.position()\n",
    "print(step_8)"
   ]
  },
  {
   "cell_type": "code",
   "execution_count": 108,
   "metadata": {},
   "outputs": [
    {
     "name": "stdout",
     "output_type": "stream",
     "text": [
      "Point(x=579, y=24)\n"
     ]
    }
   ],
   "source": [
    "# step_9: refresh the window explorer\n",
    "step_9 = pg.position()\n",
    "print(step_9)"
   ]
  },
  {
   "cell_type": "code",
   "execution_count": 99,
   "metadata": {},
   "outputs": [],
   "source": [
    "pg.click(step_1)\n",
    "pg.press('down')\n",
    "pg.hotkey('enter')"
   ]
  },
  {
   "cell_type": "code",
   "execution_count": 95,
   "metadata": {},
   "outputs": [],
   "source": [
    "pg.click(x=537,y=170)"
   ]
  },
  {
   "cell_type": "code",
   "execution_count": 3,
   "metadata": {},
   "outputs": [],
   "source": [
    "files = range(1,218)\n",
    "pg.click(step_1)\n",
    "for f in files:\n",
    "    #open a disclosure\n",
    "    pg.press('down')\n",
    "    pg.hotkey('enter')\n",
    "    time.sleep(1)\n",
    "    \n",
    "    #open the disclosure and analyze with StyleWriter\n",
    "    pg.click(step_2,clicks=2)\n",
    "    pg.click(step_3,clicks=1)\n",
    "    \n",
    "    #give enough time to let StyleWriter process the texts\n",
    "    time.sleep(2)\n",
    "    # pg.click(step_4,clicks=1)\n",
    "    pg.click(step_5,clicks=2)\n",
    "    pg.click(step_6,clicks=2)\n",
    "    \n",
    "    #refresh and prepare for the next run\n",
    "    pg.click(step_7,clicks=1)\n",
    "    time.sleep(1)\n",
    "    pg.click(step_8,clicks=1)\n",
    "    pg.click(step_9,clicks=1)\n",
    "   \n"
   ]
  },
  {
   "cell_type": "code",
   "execution_count": null,
   "metadata": {},
   "outputs": [],
   "source": []
  }
 ],
 "metadata": {
  "kernelspec": {
   "display_name": "Python 3",
   "language": "python",
   "name": "python3"
  },
  "language_info": {
   "codemirror_mode": {
    "name": "ipython",
    "version": 3
   },
   "file_extension": ".py",
   "mimetype": "text/x-python",
   "name": "python",
   "nbconvert_exporter": "python",
   "pygments_lexer": "ipython3",
   "version": "3.7.1"
  }
 },
 "nbformat": 4,
 "nbformat_minor": 2
}
